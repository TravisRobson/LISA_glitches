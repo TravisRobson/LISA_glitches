{
 "cells": [
  {
   "cell_type": "code",
   "execution_count": 1,
   "metadata": {},
   "outputs": [],
   "source": [
    "import sys\n",
    "sys.path.append(\"../\") \n",
    "\n",
    "import numpy as np\n",
    "import scipy.linalg as slin\n",
    "import matplotlib.pyplot as plt\n",
    "\n",
    "%config InlineBackend.figure_format = 'retina'\n",
    "plt.rc('text', usetex=True)\n",
    "plt.rc('font', family='serif')\n",
    "\n",
    "import LISA as l\n",
    "\n",
    "import Wavelet as wv\n",
    "import Glitch as gl\n",
    "import Burst as bu\n",
    "\n",
    "import Burst_MCMC as bumc\n",
    "import MCMC_tools as mct\n",
    "\n",
    "\n",
    "# constants\n",
    "mHz = 1.0e-3\n",
    "Hour = 3600."
   ]
  },
  {
   "cell_type": "code",
   "execution_count": 2,
   "metadata": {},
   "outputs": [],
   "source": [
    "Week = 3600.*24.*7.\n",
    "dt   = 15.\n",
    "Tobs = 2**np.ceil(np.log2(Week/dt))*dt\n",
    "orb = l.Orbit(Tobs, dt=dt)\n",
    "#t = np.arange(0.0, orb.Tobs, orb.dt) # set up the time of this orbit\n",
    "\n",
    "A    = 2.0e-21\n",
    "f0   = 3.0*mHz\n",
    "tau  = 1.5*Hour\n",
    "t0   = 0.5*orb.Tobs\n",
    "phi0 = 1.0\n",
    "\n",
    "theta = np.pi*3/4\n",
    "phi   = np.pi*1.\n",
    "psi   = np.pi*0.2\n",
    "ellip = 0.\n",
    "\n",
    "# Non-Dimensional parameters\n",
    "paramsND = np.array([np.log(A), f0/mHz, t0/Week, tau/Week, phi0, \\\n",
    "                     np.cos(theta), phi, psi, ellip])\n",
    "\n",
    "gw = bu.Burst(paramsND, orb)\n",
    "gw.construct_detector_tensor()\n",
    "gw.calculate_strain()\n",
    "gw.TDI = gw.construct_TDI(orb)"
   ]
  },
  {
   "cell_type": "code",
   "execution_count": null,
   "metadata": {},
   "outputs": [
    {
     "name": "stderr",
     "output_type": "stream",
     "text": [
      "\r",
      "  0%|          | 0/100000 [00:00<?, ?it/s]"
     ]
    },
    {
     "name": "stdout",
     "output_type": "stream",
     "text": [
      "50.00059392610618\n"
     ]
    },
    {
     "name": "stderr",
     "output_type": "stream",
     "text": [
      " 65%|██████▍   | 64797/100000 [01:58<01:04, 548.57it/s]"
     ]
    }
   ],
   "source": [
    "gw.calc_snr()\n",
    "gw.adjust_snr(10)\n",
    "\n",
    "modelX0 = bumc.Model(gw, orb) \n",
    "modelX0.get_loglkl(gw.TDI)\n",
    "print(modelX0.loglkl)\n",
    "\n",
    "PT = 1\n",
    "flag = bumc.Flag(PT)\n",
    "\n",
    "seed = 1\n",
    "N_MCMC = 10**5\n",
    "lkl, chain, props, max_model = bumc.Burst_MCMC(TDI_data=gw.TDI, Orbit=orb, modelX0=modelX0, \\\n",
    "                                                                seed=seed, N=N_MCMC, Flag=flag)\n",
    "\n",
    "FF = (max_model.loglkl + 0.5*max_model.Burst.SNR**2)/max_model.Burst.SNR/modelX0.Burst.SNR\n",
    "print(\"FF......... {}\".format(FF))"
   ]
  },
  {
   "cell_type": "code",
   "execution_count": null,
   "metadata": {
    "scrolled": false
   },
   "outputs": [],
   "source": [
    "n_bins = 30\n",
    "mct.plot_chain(lkl[:,0], r'log L', n_bins)\n",
    "mct.plot_chain(chain[0,:,0], r'$\\log A$',   n_bins, np.log(gw.A))\n",
    "mct.plot_chain(chain[1,:,0], r'$f_{0}$',    n_bins, f0/mHz)\n",
    "mct.plot_chain(chain[2,:,0], r'$t_{0}$',    n_bins, t0/Week)\n",
    "mct.plot_chain(chain[3,:,0], r'$\\tau$',     n_bins, tau/Week)\n",
    "mct.plot_chain(chain[4,:,0], r'$\\phi_{0}$', n_bins, phi0)\n",
    "\n",
    "mct.plot_chain(chain[5,:,0], r'$\\cos \\theta$',   n_bins, np.cos(theta))\n",
    "mct.plot_chain(chain[6,:,0], r'$\\phi$',          n_bins, phi)\n",
    "mct.plot_chain(chain[7,:,0], r'$\\psi$',          n_bins, psi)\n",
    "mct.plot_chain(chain[8,:,0], r'$\\epsilon$',      n_bins, ellip)\n"
   ]
  },
  {
   "cell_type": "code",
   "execution_count": null,
   "metadata": {},
   "outputs": [],
   "source": [
    "for i in range(9):\n",
    "    print(mct.get_autocorr_length(chain[i,:,0]))"
   ]
  },
  {
   "cell_type": "code",
   "execution_count": null,
   "metadata": {},
   "outputs": [],
   "source": [
    "#Setup a grid\n",
    "import scipy\n",
    "x = np.arccos(chain[5,:,0])\n",
    "y = chain[6,:,0]\n",
    "\n",
    "plt.scatter(x,y)\n",
    "\n",
    "plt.show()"
   ]
  },
  {
   "cell_type": "code",
   "execution_count": null,
   "metadata": {},
   "outputs": [],
   "source": [
    "from scipy.stats import kde\n",
    "\n",
    "fig, ax = plt.subplots(figsize=(8, 6))\n",
    "\n",
    "# Create data\n",
    "x, y = np.arccos(chain[5,:,0]), chain[6,:,0]\n",
    "data = np.vstack((x,y)).T\n",
    "\n",
    "nbins = 20\n",
    "\n",
    "# Evaluate a gaussian kde on a regular grid of nbins x nbins over data extents\n",
    "k = kde.gaussian_kde(data.T)\n",
    "xi, yi = np.mgrid[x.min():x.max():nbins*1j, y.min():y.max():nbins*1j]\n",
    "zi = k(np.vstack([xi.flatten(), yi.flatten()]))\n",
    "\n",
    "# add shading\n",
    "ax.set_title('2D Density with shading')\n",
    "ax.pcolormesh(xi, yi, zi.reshape(xi.shape), shading='gouraud', cmap=plt.cm.BuGn_r)\n",
    "\n",
    "plt.show()"
   ]
  },
  {
   "cell_type": "code",
   "execution_count": null,
   "metadata": {},
   "outputs": [],
   "source": [
    "import matplotlib.pyplot as plt\n",
    "import numpy as np\n",
    "\n",
    "fig = plt.figure(figsize=(8,6))\n",
    "ax = fig.add_subplot(111, projection='mollweide')\n",
    "\n",
    "x, y = np.arccos(chain[5,:,0]), chain[6,:,0]\n",
    "xx = x - np.pi/2\n",
    "yy = y -  np.pi\n",
    "\n",
    "Lat, Lon = np.mgrid[xx.min():xx.max():nbins*1j, yy.min():yy.max():nbins*1j]\n",
    "arr = k(np.vstack([Lon.flatten(), Lat.flatten()]))\n",
    "arr = arr.reshape(Lat.shape)\n",
    "\n",
    "im = ax.pcolormesh(Lon,Lat,arr, cmap=plt.cm.jet)\n",
    "\n",
    "plt.show()"
   ]
  },
  {
   "cell_type": "code",
   "execution_count": null,
   "metadata": {},
   "outputs": [],
   "source": [
    "plt.plot(lkl[:,0])\n",
    "plt.plot(lkl[:,1])\n",
    "plt.plot(lkl[:,2])\n",
    "#plt.plot(lkl[:,3])\n",
    "plt.show()"
   ]
  },
  {
   "cell_type": "code",
   "execution_count": null,
   "metadata": {},
   "outputs": [],
   "source": []
  }
 ],
 "metadata": {
  "kernelspec": {
   "display_name": "Python 3",
   "language": "python",
   "name": "python3"
  },
  "language_info": {
   "codemirror_mode": {
    "name": "ipython",
    "version": 3
   },
   "file_extension": ".py",
   "mimetype": "text/x-python",
   "name": "python",
   "nbconvert_exporter": "python",
   "pygments_lexer": "ipython3",
   "version": "3.6.5"
  }
 },
 "nbformat": 4,
 "nbformat_minor": 2
}
