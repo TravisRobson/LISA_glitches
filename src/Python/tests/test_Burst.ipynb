{
 "cells": [
  {
   "cell_type": "code",
   "execution_count": 1,
   "metadata": {},
   "outputs": [
    {
     "ename": "TabError",
     "evalue": "inconsistent use of tabs and spaces in indentation (Burst.py, line 282)",
     "output_type": "error",
     "traceback": [
      "Traceback \u001b[0;36m(most recent call last)\u001b[0m:\n",
      "  File \u001b[1;32m\"/anaconda3/lib/python3.6/site-packages/IPython/core/interactiveshell.py\"\u001b[0m, line \u001b[1;32m2963\u001b[0m, in \u001b[1;35mrun_code\u001b[0m\n    exec(code_obj, self.user_global_ns, self.user_ns)\n",
      "\u001b[0;36m  File \u001b[0;32m\"<ipython-input-1-77bd35affddd>\"\u001b[0;36m, line \u001b[0;32m14\u001b[0;36m, in \u001b[0;35m<module>\u001b[0;36m\u001b[0m\n\u001b[0;31m    import Burst as bu\u001b[0m\n",
      "\u001b[0;36m  File \u001b[0;32m\"../Burst.py\"\u001b[0;36m, line \u001b[0;32m282\u001b[0m\n\u001b[0;31m    self.f_min = np.min([self.hp_wavelet.f_min, self.hc_wavelet.f_min])\u001b[0m\n\u001b[0m                                                                       ^\u001b[0m\n\u001b[0;31mTabError\u001b[0m\u001b[0;31m:\u001b[0m inconsistent use of tabs and spaces in indentation\n"
     ]
    }
   ],
   "source": [
    "import sys\n",
    "sys.path.append(\"../\") \n",
    "\n",
    "import numpy as np\n",
    "import matplotlib.pyplot as plt\n",
    "%config InlineBackend.figure_format = 'retina'\n",
    "plt.rc('text', usetex=True)\n",
    "plt.rc('font', family='serif')\n",
    "\n",
    "import LISA as l\n",
    "\n",
    "import Wavelet as wv\n",
    "import Glitch as gl\n",
    "import Burst as bu\n",
    "import Burst_Slow as buS\n",
    "import MCMC_tools as mct\n",
    "\n",
    "# constants\n",
    "mHz = 1.0e-3\n",
    "Hour = 3600."
   ]
  },
  {
   "cell_type": "code",
   "execution_count": null,
   "metadata": {},
   "outputs": [],
   "source": [
    "Week = 3600.*24.*7.\n",
    "dt   = 15.\n",
    "Tobs = 2**np.ceil(np.log2(Week/dt))*dt\n",
    "\n",
    "# print(np.log2(Tobs/dt))\n",
    "# print(Tobs/dt)\n",
    "\n",
    "# set up the LISA orbit\n",
    "orb = l.Orbit(Tobs, dt=dt)\n",
    "t = np.arange(0.0, orb.Tobs, orb.dt) # set up the time of this orbit\n",
    "h = np.zeros(len(t))\n",
    "\n",
    "print(\"Nyquist Freq........ {} mHz\".format(orb.f_ny*1000.))\n",
    "\n",
    "# set up parameters of wavelet\n",
    "A    = 2.0e-21\n",
    "f0   = 3.0*mHz\n",
    "tau  = 10.5*Hour\n",
    "t0   = 0.5*orb.Tobs\n",
    "phi0 = 1.0\n",
    "Q = 2*np.pi*f0*tau\n",
    "\n",
    "print(\"Q................... {}\".format(Q))\n",
    "print(\"tau................. {} s\".format(tau))\n",
    "print(\"dt.................. {} s\".format(orb.dt))\n",
    "\n",
    "wave = wv.Wavelet(A, f0, tau, t0, phi0, orb)\n",
    "wave.calc_Psi()\n",
    "wave.make_padded_Psi(t) # drop in the wavelet time series into the data stream\n",
    "h = h + wave.Psi_padded"
   ]
  },
  {
   "cell_type": "code",
   "execution_count": null,
   "metadata": {},
   "outputs": [],
   "source": [
    "# set up parameters of wavelet\n",
    "epsil = 0. # polarization parameter\n",
    "\n",
    "wave2 = wv.Wavelet(epsil*A, f0, tau, t0, phi0, orb)\n",
    "wave2.calc_Psi()\n",
    "wave2.make_padded_Psi(t)\n",
    "\n",
    "# sky angles and polarization angles.\n",
    "phi   = np.pi*1.\n",
    "theta = np.pi*1.\n",
    "psi   = np.pi*0.2\n",
    "\n",
    "# gw = bu.GW_glitch(wave, wave2, theta, phi, psi, orb, Flag_fast)\n",
    "# gw.construct_detector_tensor()\n",
    "# gw.calculate_strain()\n",
    "# if (Flag_fast == 0):\n",
    "#     tdi_GW = gw.construct_TDI(t, orb)\n",
    "# else:\n",
    "#     tdi_GW = gw.construct_TDI_FAST(orb)\n",
    "\n",
    "gw_slow = buS.GW_glitch(wave, wave2, theta, phi, psi, orb)\n",
    "gw_slow.construct_detector_tensor()\n",
    "gw_slow.calculate_strain()\n",
    "tdi_GW_slow = gw_slow.construct_TDI(t, orb)"
   ]
  },
  {
   "cell_type": "code",
   "execution_count": null,
   "metadata": {},
   "outputs": [],
   "source": [
    "gw = bu.GW_glitch(wave, wave2, theta, phi, psi, orb)\n",
    "gw.construct_detector_tensor()\n",
    "gw.calculate_strain()\n",
    "tdi_GW = gw_slow.construct_TDI(t, orb)"
   ]
  },
  {
   "cell_type": "code",
   "execution_count": null,
   "metadata": {},
   "outputs": [],
   "source": [
    "fig, ax = plt.subplots(figsize=(8,6))\n",
    "\n",
    "ax.set_xlabel(r'f [mHz]', fontsize=16)\n",
    "ax.set_ylabel(r'$|\\widetilde{TDI}|$', fontsize=16)\n",
    "\n",
    "ax.tick_params(axis='both', which='major', labelsize=16)\n",
    "\n",
    "# find an appropriate frequency range\n",
    "ax.set_xlim(2.95, 3.05)\n",
    "ax.set_ylim(1.0e-25, 1.0e-17)\n",
    "ax.semilogy(tdi_GW_slow.freqs*1000, np.abs(tdi_GW_slow.X), label='Slow')\n",
    "\n",
    "plt.show()\n",
    "\n",
    "# plt.semilogy(tdi_GW_test.freqs, np.abs(tdi_GW_test.X))\n",
    "\n",
    "\n",
    "# plt.plot(tdi_GW.freqs[mask], tdi_GW.X[mask].real)\n",
    "\n",
    "# plt.plot(tdi_GW_test.freqs, tdi_GW_test.X.real, '-.')\n",
    "# plt.xlim(0.00298,0.00302)\n",
    "# plt.show()\n",
    "\n",
    "# plt.plot(tdi_GW.freqs[mask], tdi_GW.X[mask].imag)\n",
    "\n",
    "# plt.plot(tdi_GW_test.freqs, tdi_GW_test.X.imag, '-.')\n",
    "\n"
   ]
  },
  {
   "cell_type": "code",
   "execution_count": null,
   "metadata": {},
   "outputs": [],
   "source": []
  }
 ],
 "metadata": {
  "kernelspec": {
   "display_name": "Python 3",
   "language": "python",
   "name": "python3"
  },
  "language_info": {
   "codemirror_mode": {
    "name": "ipython",
    "version": 3
   },
   "file_extension": ".py",
   "mimetype": "text/x-python",
   "name": "python",
   "nbconvert_exporter": "python",
   "pygments_lexer": "ipython3",
   "version": "3.6.5"
  }
 },
 "nbformat": 4,
 "nbformat_minor": 2
}
